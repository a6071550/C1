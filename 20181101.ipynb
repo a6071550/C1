{
  "nbformat": 4,
  "nbformat_minor": 0,
  "metadata": {
    "colab": {
      "name": "Untitled0.ipynb",
      "version": "0.3.2",
      "provenance": [],
      "include_colab_link": true
    },
    "kernelspec": {
      "name": "python3",
      "display_name": "Python 3"
    }
  },
  "cells": [
    {
      "cell_type": "markdown",
      "metadata": {
        "id": "view-in-github",
        "colab_type": "text"
      },
      "source": [
        "<a href=\"https://colab.research.google.com/github/s107000665/C1/blob/master/20181101.ipynb\" target=\"_parent\"><img src=\"https://colab.research.google.com/assets/colab-badge.svg\" alt=\"Open In Colab\"/></a>"
      ]
    },
    {
      "metadata": {
        "id": "AhTAKdNr3fLV",
        "colab_type": "text"
      },
      "cell_type": "markdown",
      "source": [
        ""
      ]
    },
    {
      "metadata": {
        "id": "b-YOVKb14t8i",
        "colab_type": "text"
      },
      "cell_type": "markdown",
      "source": [
        "### Chapter 1"
      ]
    },
    {
      "metadata": {
        "id": "F7sbD6EK5Hvs",
        "colab_type": "code",
        "colab": {
          "base_uri": "https://localhost:8080/",
          "height": 34
        },
        "outputId": "c7fbb12a-dcc8-4950-909e-84799d80f72a"
      },
      "cell_type": "code",
      "source": [
        "import time\n",
        "\n",
        "currentTime = time.time() # Get current time\n",
        "\n",
        "# Obtain the total seconds since midnight, Jan 1, 1970\n",
        "totalSeconds = int(currentTime)\n",
        "\n",
        "# Get the current second \n",
        "currentSecond = totalSeconds % 60 \n",
        "\n",
        "# Obtain the total minutes\n",
        "totalMinutes = totalSeconds // 60 \n",
        "\n",
        "# Compute the current minute in the hour\n",
        "currentMinute = totalMinutes % 60\n",
        "\n",
        "# Obtain the total hours\n",
        "totalHours = totalMinutes // 60\n",
        "\n",
        "# Compute the current hour\n",
        "currentHour = totalHours % 24\n",
        "\n",
        "# Display results\n",
        "print(\"Current time is \" + str(currentHour) + \":\"\n",
        "    + str(currentMinute) + \":\" + str(currentSecond) + \" GMT\")"
      ],
      "execution_count": 3,
      "outputs": [
        {
          "output_type": "stream",
          "text": [
            "Current time is 6:10:52 GMT\n"
          ],
          "name": "stdout"
        }
      ]
    },
    {
      "metadata": {
        "id": "sG0A197O5mwh",
        "colab_type": "text"
      },
      "cell_type": "markdown",
      "source": [
        "### Chapter 2   ComputeArea\n"
      ]
    },
    {
      "metadata": {
        "id": "0uBUU5Li5sCy",
        "colab_type": "code",
        "colab": {
          "base_uri": "https://localhost:8080/",
          "height": 34
        },
        "outputId": "56c57411-f40c-43f4-d318-b75c0b887c41"
      },
      "cell_type": "code",
      "source": [
        "# Assign a radius\n",
        "radius = 20 # radius is now 20\n",
        "\n",
        "# Compute area\n",
        "area = radius * radius * 3.14159\n",
        "\n",
        "# Display results\n",
        "print(\"The area for the circle of radius\", radius, \"is\", area)"
      ],
      "execution_count": 4,
      "outputs": [
        {
          "output_type": "stream",
          "text": [
            "The area for the circle of radius 20 is 1256.636\n"
          ],
          "name": "stdout"
        }
      ]
    },
    {
      "metadata": {
        "id": "pmIi9qwf61if",
        "colab_type": "text"
      },
      "cell_type": "markdown",
      "source": [
        "### Chapter 3  MathFunctions"
      ]
    },
    {
      "metadata": {
        "id": "iG1vp3rq7BKD",
        "colab_type": "code",
        "colab": {
          "base_uri": "https://localhost:8080/",
          "height": 170
        },
        "outputId": "f99a424a-a918-4239-a232-5dc34d6a96f6"
      },
      "cell_type": "code",
      "source": [
        "import math # import Math module to use the math functions\n",
        " \n",
        "# Test algebraic functions\n",
        "print(\"exp(1.0) =\", math.exp(1))\n",
        "print(\"log(3.78) =\", math.log(math.e))\n",
        "print(\"log10(10, 10) =\", math.log(10, 10))\n",
        "print(\"sqrt(4.0) =\", math.sqrt(4.0))\n",
        " \n",
        "# Test trigonometric functions\n",
        "print(\"sin(PI / 2) =\", math.sin(math.pi / 2))\n",
        "print(\"cos(PI / 2) =\", math.cos(math.pi / 2))\n",
        "print(\"tan(PI / 2) =\", math.tan(math.pi / 2))\n",
        "print(\"degrees(1.57) =\", math.degrees(1.57))\n",
        "print(\"radians(90) =\", math.radians(90))\n"
      ],
      "execution_count": 7,
      "outputs": [
        {
          "output_type": "stream",
          "text": [
            "exp(1.0) = 2.718281828459045\n",
            "log(3.78) = 1.0\n",
            "log10(10, 10) = 1.0\n",
            "sqrt(4.0) = 2.0\n",
            "sin(PI / 2) = 1.0\n",
            "cos(PI / 2) = 6.123233995736766e-17\n",
            "tan(PI / 2) = 1.633123935319537e+16\n",
            "degrees(1.57) = 89.95437383553924\n",
            "radians(90) = 1.5707963267948966\n"
          ],
          "name": "stdout"
        }
      ]
    },
    {
      "metadata": {
        "id": "hP8kMrP06NZO",
        "colab_type": "text"
      },
      "cell_type": "markdown",
      "source": [
        "### Chapter 4 SimpleIfDemo"
      ]
    },
    {
      "metadata": {
        "id": "KupoIdXh6Wnp",
        "colab_type": "code",
        "colab": {
          "base_uri": "https://localhost:8080/",
          "height": 34
        },
        "outputId": "9a460697-33c5-4bb4-f58c-7c958b858048"
      },
      "cell_type": "code",
      "source": [
        "number = eval(input(\"Enter an integer: \"))\n",
        "\n",
        "if number % 5 == 0 :\n",
        "   print(\"HiFive\");\n",
        "\n",
        "if number % 2 == 0 :\n",
        "   print(\"HiEven\");"
      ],
      "execution_count": 6,
      "outputs": [
        {
          "output_type": "stream",
          "text": [
            "Enter an integer: 31\n"
          ],
          "name": "stdout"
        }
      ]
    },
    {
      "metadata": {
        "id": "pfaXm0X86fbl",
        "colab_type": "text"
      },
      "cell_type": "markdown",
      "source": [
        "### Chapter 5 SubtractionQuizLoop"
      ]
    },
    {
      "metadata": {
        "id": "4DluGooU7SU6",
        "colab_type": "code",
        "colab": {
          "base_uri": "https://localhost:8080/",
          "height": 255
        },
        "outputId": "34075079-c46d-48a0-aa8c-11dec48d6960"
      },
      "cell_type": "code",
      "source": [
        "import random\n",
        "import time\n",
        "\n",
        "correctCount = 0 # Count the number of correct answers\n",
        "count = 0 # Count the number of questions\n",
        "NUMBER_OF_QUESTIONS = 6 # Constant #迴圈 6\n",
        "\n",
        "startTime = time.time() # Get start time\n",
        "\n",
        "while count < NUMBER_OF_QUESTIONS:\n",
        "    # 1. Generate two random single-digit integers\n",
        "    number1 = random.randint(0, 9)\n",
        "    number2 = random.randint(0, 9)\n",
        "\n",
        "    # 2. If number1 < number2, swap number1 with number2\n",
        "    if number1 < number2:\n",
        "        number1, number2 = number2, number1\n",
        "\n",
        "    # 3. Prompt the student to answer \"what is number1 - number2?\" \n",
        "    answer = eval(input(\"What is \" + str(number1) + \" - \" + \n",
        "        str(number2) + \"? \"))\n",
        "\n",
        "    # 5. Grade the answer and display the result\n",
        "    if number1 - number2 == answer:\n",
        "        print(\"You are correct!\")\n",
        "        correctCount += 1\n",
        "    else:\n",
        "        print(\"Your answer is wrong.\\n\", number1, \"-\",\n",
        "            number2, \"should be\", (number1 - number2))\n",
        "\n",
        "    # Increase the count\n",
        "    count += 1\n",
        "\n",
        "endTime = time.time() # Get end time\n",
        "testTime = int(endTime - startTime) # Get test time\n",
        "print(\"Correct count is\", correctCount, \"out of\", \n",
        "    NUMBER_OF_QUESTIONS, \"\\nTest time is\", testTime, \"seconds\")\n"
      ],
      "execution_count": 9,
      "outputs": [
        {
          "output_type": "stream",
          "text": [
            "What is 7 - 7? 0\n",
            "You are correct!\n",
            "What is 8 - 5? 3\n",
            "You are correct!\n",
            "What is 9 - 3? 6\n",
            "You are correct!\n",
            "What is 4 - 1? 3\n",
            "You are correct!\n",
            "What is 8 - 1? 7\n",
            "You are correct!\n",
            "What is 9 - 8? 1\n",
            "You are correct!\n",
            "Correct count is 6 out of 6 \n",
            "Test time is 16 seconds\n"
          ],
          "name": "stdout"
        }
      ]
    },
    {
      "metadata": {
        "id": "Qnc8O6pY7rAr",
        "colab_type": "text"
      },
      "cell_type": "markdown",
      "source": [
        "### Chapter 6   TestMax"
      ]
    },
    {
      "metadata": {
        "id": "T2Nl1wS18i2Q",
        "colab_type": "code",
        "colab": {
          "base_uri": "https://localhost:8080/",
          "height": 34
        },
        "outputId": "1fcf9fb4-5e0a-4509-c379-891cfdba5933"
      },
      "cell_type": "code",
      "source": [
        "# Return the max between two numbers \n",
        "def max(num1, num2): \n",
        "    if num1 > num2:\n",
        "        result = num1\n",
        "    else:\n",
        "        result = num2\n",
        "\n",
        "    return result\n",
        "\n",
        "def main():\n",
        "    i = 5\n",
        "    j = 2\n",
        "    k = max(i, j) # Call the max function\n",
        "    print(\"The maximum between\", i, \"and\", j, \"is\", k)\n",
        "\n",
        "main() # Call the main function\n"
      ],
      "execution_count": 10,
      "outputs": [
        {
          "output_type": "stream",
          "text": [
            "The maximum between 5 and 2 is 5\n"
          ],
          "name": "stdout"
        }
      ]
    },
    {
      "metadata": {
        "id": "OxkQqKU83Rug",
        "colab_type": "text"
      },
      "cell_type": "markdown",
      "source": [
        "### ShowLogicErrors\n"
      ]
    },
    {
      "metadata": {
        "id": "nkuYHvFW3d57",
        "colab_type": "code",
        "colab": {
          "base_uri": "https://localhost:8080/",
          "height": 51
        },
        "outputId": "4655b39c-3b7b-4586-bb9b-3b103fa681f7"
      },
      "cell_type": "code",
      "source": [
        "# Convert Fahrenheit to Celsius\n",
        "print(\"Fahrenheit 35 is Celsius degree \")\n",
        "print(5 / 9 * (35 - 32))\n"
      ],
      "execution_count": 2,
      "outputs": [
        {
          "output_type": "stream",
          "text": [
            "Fahrenheit 35 is Celsius degree \n",
            "1.6666666666666667\n"
          ],
          "name": "stdout"
        }
      ]
    }
  ]
}